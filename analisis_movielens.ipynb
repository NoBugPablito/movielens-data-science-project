{
 "cells": [
  {
   "cell_type": "code",
   "execution_count": null,
   "id": "1d4d0020",
   "metadata": {},
   "outputs": [],
   "source": [
    "import pandas as pd\n",
    "\n",
    "movies = pd.read_csv(\"DataBase/movies.csv\")\n",
    "links = pd.read_csv(\"DataBase/links.csv\")\n",
    "ratings = pd.read_csv(\"DataBase/ratings.csv\")\n",
    "tags = pd.read_csv(\"DataBase/tags.csv\")\n",
    "\n",
    "print(\"Movies:\")\n",
    "display(movies.head())\n",
    "display(links.head())\n",
    "display(ratings.head())\n",
    "display(tags.head())\n",
    "\n",
    "print(\"Movies shape:\", movies.shape)\n",
    "print(\"Ratings shape:\", ratings.shape)\n",
    "print(\"Tags shape:\", tags.shape)\n",
    "print(\"Links shape:\", links.shape)\n",
    "\n",
    "print(\"\\nInfo de movies: \")\n",
    "print(movies.info())\n",
    "print(\"\\nValores nulos en movies\")\n",
    "print(movies.isnull().sum())    \n",
    "print(\"\\nValores nulos en rating\")\n",
    "print(ratings.isnull().sum())\n"
   ]
  },
  {
   "cell_type": "code",
   "execution_count": null,
   "id": "f18f6b49",
   "metadata": {},
   "outputs": [],
   "source": [
    "import pandas as pd\n",
    "\n",
    "movies = pd.read_csv(\"DataBase/movies.csv\")\n",
    "links = pd.read_csv(\"DataBase/links.csv\")\n",
    "ratings = pd.read_csv(\"DataBase/ratings.csv\")\n",
    "tags = pd.read_csv(\"DataBase/tags.csv\")\n",
    "\n",
    "print(\"\\nInfo de movies: \")\n",
    "print(movies.info())\n",
    "print(\"\\nValores nulos en movies\")\n",
    "print(movies.isnull().sum())    \n",
    "print(\"\\nValores nulos en rating\")\n",
    "print(ratings.isnull().sum())"
   ]
  },
  {
   "cell_type": "code",
   "execution_count": null,
   "id": "64faad67",
   "metadata": {},
   "outputs": [],
   "source": [
    "#Peliculas mas calificadas\n",
    "\n",
    "import pandas as pd\n",
    "import matplotlib.pyplot as plt\n",
    "\n",
    "movies = pd.read_csv(\"DataBase/movies.csv\")\n",
    "links = pd.read_csv(\"DataBase/links.csv\")\n",
    "ratings = pd.read_csv(\"DataBase/ratings.csv\")\n",
    "tags = pd.read_csv(\"DataBase/tags.csv\")\n",
    "\n",
    "df = pd.merge(ratings, movies, on = 'movieId')\n",
    "\n",
    "\n",
    "top_movies = df.groupby('title').size().sort_values(ascending=False).head(10)\n",
    "print(\"Top 10 peliculas mas calificadas: \")\n",
    "top_movies\n",
    "\n",
    "top_movies.sort_values().plot(kind='barh', figsize=(8,6))\n",
    "plt.xlabel('Cantidad de ratings')\n",
    "plt.title('Top 10 peliculas mas calificadas')\n",
    "plt.tight_layout()\n",
    "plt.show()\n",
    "\n"
   ]
  },
  {
   "cell_type": "code",
   "execution_count": null,
   "id": "f86ddb6b",
   "metadata": {},
   "outputs": [],
   "source": [
    "import pandas as pd\n",
    "import matplotlib.pyplot as plt\n",
    "\n",
    "movies = pd.read_csv(\"DataBase/movies.csv\")\n",
    "links = pd.read_csv(\"DataBase/links.csv\")\n",
    "ratings = pd.read_csv(\"DataBase/ratings.csv\")\n",
    "tags = pd.read_csv(\"DataBase/tags.csv\")\n",
    "\n",
    "df = pd.merge(ratings, movies, on = 'movieId')\n",
    "\n",
    "ratings_stats = df.groupby('title').agg(\n",
    "    ratings_count = ('rating', 'count'), ratings_mean = ('rating', 'mean')\n",
    ")\n",
    "\n",
    "Filter = ratings_stats[ratings_stats['ratings_count'] >= 100]\n",
    "best_movies = Filter.sort_values('ratings_mean', ascending=False).head(10)\n",
    "\n",
    "best_movies['ratings_mean'].sort_values().plot(kind='barh', figsize=(8,6))\n",
    "plt.xlabel('Promedio de rating')\n",
    "plt.title('Top 10 películas mejor rankeadas (≥100 ratings)')\n",
    "plt.tight_layout()\n",
    "plt.show()\n"
   ]
  },
  {
   "cell_type": "code",
   "execution_count": null,
   "id": "eaf82dd5",
   "metadata": {},
   "outputs": [],
   "source": []
  }
 ],
 "metadata": {
  "kernelspec": {
   "display_name": ".venv",
   "language": "python",
   "name": "python3"
  },
  "language_info": {
   "codemirror_mode": {
    "name": "ipython",
    "version": 3
   },
   "file_extension": ".py",
   "mimetype": "text/x-python",
   "name": "python",
   "nbconvert_exporter": "python",
   "pygments_lexer": "ipython3",
   "version": "3.13.1"
  }
 },
 "nbformat": 4,
 "nbformat_minor": 5
}
